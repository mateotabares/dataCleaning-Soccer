{
 "cells": [
  {
   "cell_type": "markdown",
   "metadata": {},
   "source": [
    "## Pasos previos\n",
    "\n",
    "- Importar las librerías necesarias\n",
    "- Sr carga en una variable llamada `raw_data` el contenido del fichero `my_players_info.csv`\n",
    "- Se usa una ruta relativa en la llamada al fichero `my_players_info.csv`. "
   ]
  },
  {
   "cell_type": "code",
   "execution_count": 1,
   "metadata": {},
   "outputs": [],
   "source": [
    "# Se importan las librerias que se van a utilizar\n",
    "import re\n",
    "import pandas as pd\n",
    "import numpy as np"
   ]
  },
  {
   "cell_type": "code",
   "execution_count": 2,
   "metadata": {},
   "outputs": [],
   "source": [
    "# Crea una variable llamada raw_data de tipo DataFrame que tenga la información del fichero my_players_info.csv\n",
    "path = './data/my_players_info.csv'\n",
    "raw_data = pd.read_csv(path, sep=\";\")\n",
    "df = raw_data.copy()"
   ]
  },
  {
   "cell_type": "code",
   "execution_count": 3,
   "metadata": {},
   "outputs": [
    {
     "data": {
      "text/html": [
       "<div>\n",
       "<style scoped>\n",
       "    .dataframe tbody tr th:only-of-type {\n",
       "        vertical-align: middle;\n",
       "    }\n",
       "\n",
       "    .dataframe tbody tr th {\n",
       "        vertical-align: top;\n",
       "    }\n",
       "\n",
       "    .dataframe thead th {\n",
       "        text-align: right;\n",
       "    }\n",
       "</style>\n",
       "<table border=\"1\" class=\"dataframe\">\n",
       "  <thead>\n",
       "    <tr style=\"text-align: right;\">\n",
       "      <th></th>\n",
       "      <th>(goles)</th>\n",
       "      <th>Altura</th>\n",
       "      <th>Apodo(s)</th>\n",
       "      <th>Club</th>\n",
       "      <th>Debut</th>\n",
       "      <th>Debut deportivo</th>\n",
       "      <th>Deporte</th>\n",
       "      <th>Dorsal(es)</th>\n",
       "      <th>Entrenador</th>\n",
       "      <th>Goles en clubes</th>\n",
       "      <th>...</th>\n",
       "      <th>Nombre de nacimiento</th>\n",
       "      <th>Pareja</th>\n",
       "      <th>Part.</th>\n",
       "      <th>Part. (goles)</th>\n",
       "      <th>País</th>\n",
       "      <th>Peso</th>\n",
       "      <th>Posición</th>\n",
       "      <th>Retirada deportiva</th>\n",
       "      <th>Selección</th>\n",
       "      <th>nombre</th>\n",
       "    </tr>\n",
       "  </thead>\n",
       "  <tbody>\n",
       "    <tr>\n",
       "      <th>count</th>\n",
       "      <td>1</td>\n",
       "      <td>467</td>\n",
       "      <td>156</td>\n",
       "      <td>472</td>\n",
       "      <td>147</td>\n",
       "      <td>470</td>\n",
       "      <td>478</td>\n",
       "      <td>309</td>\n",
       "      <td>10</td>\n",
       "      <td>214</td>\n",
       "      <td>...</td>\n",
       "      <td>29</td>\n",
       "      <td>11</td>\n",
       "      <td>32</td>\n",
       "      <td>204</td>\n",
       "      <td>178</td>\n",
       "      <td>273</td>\n",
       "      <td>477</td>\n",
       "      <td>3</td>\n",
       "      <td>248</td>\n",
       "      <td>478</td>\n",
       "    </tr>\n",
       "    <tr>\n",
       "      <th>unique</th>\n",
       "      <td>1</td>\n",
       "      <td>154</td>\n",
       "      <td>153</td>\n",
       "      <td>202</td>\n",
       "      <td>119</td>\n",
       "      <td>450</td>\n",
       "      <td>3</td>\n",
       "      <td>36</td>\n",
       "      <td>10</td>\n",
       "      <td>137</td>\n",
       "      <td>...</td>\n",
       "      <td>29</td>\n",
       "      <td>11</td>\n",
       "      <td>20</td>\n",
       "      <td>121</td>\n",
       "      <td>39</td>\n",
       "      <td>85</td>\n",
       "      <td>74</td>\n",
       "      <td>3</td>\n",
       "      <td>91</td>\n",
       "      <td>474</td>\n",
       "    </tr>\n",
       "    <tr>\n",
       "      <th>top</th>\n",
       "      <td>(97)</td>\n",
       "      <td>1,80 m (5 ft 11 in)</td>\n",
       "      <td>Pape, Diop, El Pulmón</td>\n",
       "      <td>Real Madrid C. F.</td>\n",
       "      <td>29 de mayo de 2016</td>\n",
       "      <td>2009(F. C. Barcelona B)</td>\n",
       "      <td>Fútbol</td>\n",
       "      <td>7</td>\n",
       "      <td>Manolo Jiménez</td>\n",
       "      <td>11</td>\n",
       "      <td>...</td>\n",
       "      <td>Cristiano Ronaldo dos Santos Aveiro</td>\n",
       "      <td>Maitane Garralda</td>\n",
       "      <td>1</td>\n",
       "      <td>1 (0)</td>\n",
       "      <td>España</td>\n",
       "      <td>75 kg (165 lb)</td>\n",
       "      <td>Centrocampista</td>\n",
       "      <td>(Real Sociedad)</td>\n",
       "      <td>ESP España</td>\n",
       "      <td>Sergi Samper</td>\n",
       "    </tr>\n",
       "    <tr>\n",
       "      <th>freq</th>\n",
       "      <td>1</td>\n",
       "      <td>26</td>\n",
       "      <td>2</td>\n",
       "      <td>21</td>\n",
       "      <td>7</td>\n",
       "      <td>2</td>\n",
       "      <td>476</td>\n",
       "      <td>20</td>\n",
       "      <td>1</td>\n",
       "      <td>8</td>\n",
       "      <td>...</td>\n",
       "      <td>1</td>\n",
       "      <td>1</td>\n",
       "      <td>5</td>\n",
       "      <td>29</td>\n",
       "      <td>75</td>\n",
       "      <td>16</td>\n",
       "      <td>93</td>\n",
       "      <td>1</td>\n",
       "      <td>39</td>\n",
       "      <td>2</td>\n",
       "    </tr>\n",
       "  </tbody>\n",
       "</table>\n",
       "<p>4 rows × 24 columns</p>\n",
       "</div>"
      ],
      "text/plain": [
       "       (goles)               Altura               Apodo(s)               Club  \\\n",
       "count        1                  467                    156                472   \n",
       "unique       1                  154                    153                202   \n",
       "top       (97)  1,80 m (5 ft 11 in)  Pape, Diop, El Pulmón  Real Madrid C. F.   \n",
       "freq         1                   26                      2                 21   \n",
       "\n",
       "                     Debut          Debut deportivo Deporte Dorsal(es)  \\\n",
       "count                  147                      470     478        309   \n",
       "unique                 119                      450       3         36   \n",
       "top     29 de mayo de 2016  2009(F. C. Barcelona B)  Fútbol          7   \n",
       "freq                     7                        2     476         20   \n",
       "\n",
       "            Entrenador Goles en clubes  ...  \\\n",
       "count               10             214  ...   \n",
       "unique              10             137  ...   \n",
       "top     Manolo Jiménez              11  ...   \n",
       "freq                 1               8  ...   \n",
       "\n",
       "                       Nombre de nacimiento            Pareja Part.  \\\n",
       "count                                    29                11    32   \n",
       "unique                                   29                11    20   \n",
       "top     Cristiano Ronaldo dos Santos Aveiro  Maitane Garralda     1   \n",
       "freq                                      1                 1     5   \n",
       "\n",
       "       Part. (goles)    País            Peso        Posición  \\\n",
       "count            204     178             273             477   \n",
       "unique           121      39              85              74   \n",
       "top            1 (0)  España  75 kg (165 lb)  Centrocampista   \n",
       "freq              29      75              16              93   \n",
       "\n",
       "       Retirada deportiva   Selección        nombre  \n",
       "count                   3         248           478  \n",
       "unique                  3          91           474  \n",
       "top       (Real Sociedad)  ESP España  Sergi Samper  \n",
       "freq                    1          39             2  \n",
       "\n",
       "[4 rows x 24 columns]"
      ]
     },
     "execution_count": 3,
     "metadata": {},
     "output_type": "execute_result"
    }
   ],
   "source": [
    "#Este método permite, en una sola linea, ver una descripción estadística del DataFrame.\n",
    "df.describe()"
   ]
  },
  {
   "cell_type": "markdown",
   "metadata": {},
   "source": []
  },
  {
   "cell_type": "code",
   "execution_count": 4,
   "metadata": {},
   "outputs": [],
   "source": [
    "def extraer_altura(df):\n",
    "#Esta función va a consistir en transformar la columna 'Altura' a formato float64\n",
    " #- La función se llama **extraer_altura**\n",
    " #- La función recibe como parámetro un DataFrame y debe devolver un DataFrame\n",
    " #- El DataFrame de entrada contiene una columna llamada 'Altura' que es de tipo object\n",
    " #- El DataFrame de salida contiene una columna llamada 'Altura' de tipo float64\n",
    " #- La columna 'Altura' de tipo float64 mantiene los valores nulos que mantenía en el momento de entrar en la función. \n",
    "\n",
    "    df['Altura'].fillna(\"-1\", inplace=True)\n",
    "    df['Altura'] = df['Altura'].map(str)\n",
    "    df['Altura'] = df['Altura'].apply(lambda x: str(x).replace(\",\", \".\").replace(\"'\", \".\"))\n",
    "    df['Altura'] = df['Altura'].apply(lambda x: x[0:4])\n",
    "    df['Altura'] = df['Altura'].apply(lambda x: float(x))\n",
    "    df.loc[df['Altura'] == -1, 'Altura'] = np.nan\n",
    "    assert (isinstance(df, pd.DataFrame))\n",
    "    return df\n",
    "\n"
   ]
  },
  {
   "cell_type": "code",
   "execution_count": 5,
   "metadata": {},
   "outputs": [],
   "source": [
    "def extraer_peso(df):\n",
    "#Esta función va a consistir en transformar la columna 'Peso' a formato float64\n",
    " #- La función se llama **extraer_peso**\n",
    " #- La función recibe como parámetro un DataFrame y debe devolver un DataFrame\n",
    " #- El DataFrame de entrada contiene una columna llamada 'Peso' que es de tipo object\n",
    " #- El DataFrame de salida contiene una columna llamada 'Peso' de tipo float64\n",
    " #- La columna 'Peso' de tipo float64 debe mantener los valores nulos que mantenía en el momento de entrar en la función\n",
    "\n",
    "    df['Peso'].fillna(\"-1\", inplace=True)\n",
    "    df['Peso'] = df['Peso'].map(str)\n",
    "    df['Peso'] = df['Peso'].apply(lambda x: str(x).replace(\",\", \".\").replace(\"'\", \".\"))\n",
    "    df['Peso'] = df['Peso'].apply(lambda x: x[0:3])\n",
    "    df['Peso'] = df['Peso'].apply(lambda x: float(x))\n",
    "    df.loc[df['Peso'] == -1, 'Peso'] = np.nan\n",
    "    assert (isinstance(df, pd.DataFrame))\n",
    "    return df"
   ]
  },
  {
   "cell_type": "code",
   "execution_count": 6,
   "metadata": {},
   "outputs": [],
   "source": [
    "raw_data = pd.read_csv(path, sep=\";\")\n",
    "df_4 = extraer_altura(raw_data)  \n",
    "df_4 = extraer_peso(df_4) \n",
    "\n",
    "\n",
    "def clasificacion_oms(df):\n",
    " #- La función recibe como parámetro un DataFrame y debe devolver un DataFrame\n",
    " #- El DataFrame de entrada contiene, entre otras, dos columnas llamadas 'Peso' y 'Altura' que son de tipo float64 \n",
    " #- El DataFrame de salida contiene las mismas columnas que el DataFrame de entrada y además añade dos columnas nuevas: 'IMC' y #'clasificacoin_oms':\n",
    "     #- La columna 'IMC' ,de tipo float64, que tiene el cálculo del Indice de Masa Corportal\n",
    "     #- La columna 'clasificacion_oms', de tipo str o factor, que tiene los siguientes valores:\n",
    "         #- \"delgadez\" cuando IMC < 18.5\n",
    "         #- \"normal\" cuadno IMC >=18.50 y IMC < 25.0\n",
    "         #- \"sobrepeso\" cuando IMC >=25 y IMC < 30\n",
    "         #- \"obeso\" cuadno IMC >= 30 \n",
    "     #- La columna 'clasificacoin_oms' solo puede tener como valor \"delgadez\", \"normal\", \"sobrepeso\", \"obeso\" y nulo. \n",
    "\n",
    "    df_4['IMC'] = df_4['Peso'] / (df_4['Altura'] * df_4['Altura'])\n",
    "    limites = [min(df_4['IMC']), 18.5, 25, 30, max(df_4['IMC'])]\n",
    "    categorias = ['delgadez', 'normal', 'sobrepeso', 'obeso']\n",
    "    df_4['clasificacion_oms'] = pd.cut(df_4['IMC'], bins=limites, labels=categorias, include_lowest=True)\n",
    "\n",
    "    assert (isinstance(df, pd.DataFrame))\n",
    "    return df\n"
   ]
  },
  {
   "cell_type": "code",
   "execution_count": 7,
   "metadata": {},
   "outputs": [
    {
     "data": {
      "text/html": [
       "<div>\n",
       "<style scoped>\n",
       "    .dataframe tbody tr th:only-of-type {\n",
       "        vertical-align: middle;\n",
       "    }\n",
       "\n",
       "    .dataframe tbody tr th {\n",
       "        vertical-align: top;\n",
       "    }\n",
       "\n",
       "    .dataframe thead th {\n",
       "        text-align: right;\n",
       "    }\n",
       "</style>\n",
       "<table border=\"1\" class=\"dataframe\">\n",
       "  <thead>\n",
       "    <tr style=\"text-align: right;\">\n",
       "      <th></th>\n",
       "      <th>Debut</th>\n",
       "      <th>Debut deportivo</th>\n",
       "    </tr>\n",
       "  </thead>\n",
       "  <tbody>\n",
       "    <tr>\n",
       "      <th>475</th>\n",
       "      <td>29 de mayo de 2016</td>\n",
       "      <td>2013(Racing C.)</td>\n",
       "    </tr>\n",
       "    <tr>\n",
       "      <th>476</th>\n",
       "      <td>16 de junio de 2015</td>\n",
       "      <td>2009(Bayern de Múnich II)</td>\n",
       "    </tr>\n",
       "    <tr>\n",
       "      <th>477</th>\n",
       "      <td>31 de marzo de 2015</td>\n",
       "      <td>1 de agosto de 2013(Bursaspor)</td>\n",
       "    </tr>\n",
       "  </tbody>\n",
       "</table>\n",
       "</div>"
      ],
      "text/plain": [
       "                   Debut                 Debut deportivo\n",
       "475   29 de mayo de 2016                 2013(Racing C.)\n",
       "476  16 de junio de 2015       2009(Bayern de Múnich II)\n",
       "477  31 de marzo de 2015  1 de agosto de 2013(Bursaspor)"
      ]
     },
     "execution_count": 7,
     "metadata": {},
     "output_type": "execute_result"
    }
   ],
   "source": [
    "raw_data[['Debut','Debut deportivo']].tail(3)"
   ]
  },
  {
   "cell_type": "code",
   "execution_count": 8,
   "metadata": {},
   "outputs": [],
   "source": [
    "\n",
    "def extraer_datos_debut(df):\n",
    "    #Esta función va a consistir en extraer y unificar la información del debut del jugador. \n",
    "    def find_year(x):\n",
    "        x=str(x)\n",
    "        año = re.search('\\d{4}', x)\n",
    "        return int(año.group(0)) if año else 0\n",
    "    def find_club(x):\n",
    "        x=str(x)\n",
    "        club = re.search('\\((.*?)\\)', x)\n",
    "        return str(club.group(1)) if club else 0\n",
    "    df['fecha_debut'] = df['Debut deportivo'].map(find_year)\n",
    "    df['fecha_debut2'] = df['Debut'].map(find_year)\n",
    "    df['club_debut'] = df['Debut deportivo'].map(find_club)\n",
    "    df.loc[df['fecha_debut'] == 0, 'fecha_debut'] = df['fecha_debut2']\n",
    "    df.loc[df['fecha_debut'] == 0, 'fecha_debut'] = np.nan\n",
    "    df.loc[df['club_debut'] == 0, 'club_debut'] = np.nan\n",
    "    df.drop(columns='Debut', inplace=True)\n",
    "    df.drop(columns='Debut deportivo', inplace=True)\n",
    "    df.drop(columns='fecha_debut2', inplace=True)\n",
    "    #re.search('\\(([^)]+)', s).group(1)\n",
    "    # No modifiques las siguientes lineas\n",
    "    assert(isinstance(df, pd.DataFrame))\n",
    "    return df  "
   ]
  },
  {
   "cell_type": "code",
   "execution_count": 9,
   "metadata": {},
   "outputs": [],
   "source": [
    " #- Usa la función `to_numeric` para extraer el valor numérico de la columna 'Goles en clubes' \n",
    "raw_data['Goles en clubes'] = pd.to_numeric(raw_data['Goles en clubes'],errors='coerce')"
   ]
  },
  {
   "cell_type": "code",
   "execution_count": 10,
   "metadata": {},
   "outputs": [],
   "source": [
    "#Guarda en la variable `num_imc_calculados`el total de jugadores para los que se ha podido calcular el IMC\n",
    "df_4=clasificacion_oms(df_4)\n",
    "num_imc_calculados = df_4['IMC'].count()"
   ]
  },
  {
   "cell_type": "code",
   "execution_count": 11,
   "metadata": {},
   "outputs": [
    {
     "data": {
      "text/plain": [
       "normal       0.933579\n",
       "sobrepeso    0.051661\n",
       "obeso        0.011070\n",
       "delgadez     0.003690\n",
       "Name: clasificacion_oms, dtype: float64"
      ]
     },
     "execution_count": 11,
     "metadata": {},
     "output_type": "execute_result"
    }
   ],
   "source": [
    "# Porcentajes de IMC\n",
    "df_4['clasificacion_oms'].value_counts() / num_imc_calculados"
   ]
  },
  {
   "cell_type": "code",
   "execution_count": 12,
   "metadata": {},
   "outputs": [
    {
     "data": {
      "text/plain": [
       "Nombre completo    Fábio Benito Silva Coentrão Fabela dos Santos\n",
       "Posición                                       Lateral izquierdo\n",
       "IMC                                                      11.8598\n",
       "Club                                                     Rio Ave\n",
       "Name: 170, dtype: object"
      ]
     },
     "execution_count": 12,
     "metadata": {},
     "output_type": "execute_result"
    }
   ],
   "source": [
    "# Encontrar jugador mas delgado\n",
    "jugador_mas_delgado = df_4.loc[df_4['IMC'].idxmin(),['Nombre completo','Posición','IMC','Club']]\n",
    "jugador_mas_delgado"
   ]
  },
  {
   "cell_type": "code",
   "execution_count": 13,
   "metadata": {},
   "outputs": [
    {
     "data": {
      "text/plain": [
       "Nombre completo    Sergi Samper Montaña\n",
       "Posición                 Centrocampista\n",
       "IMC                             58.6777\n",
       "Club                    F. C. Barcelona\n",
       "Name: 200, dtype: object"
      ]
     },
     "execution_count": 13,
     "metadata": {},
     "output_type": "execute_result"
    }
   ],
   "source": [
    "# Encontrar jugador mas Obeso\n",
    "jugador_mas_obeso = df_4.loc[df_4['IMC'].idxmax(),['Nombre completo','Posición','IMC','Club']]\n",
    "jugador_mas_obeso"
   ]
  },
  {
   "cell_type": "code",
   "execution_count": 14,
   "metadata": {},
   "outputs": [
    {
     "data": {
      "text/html": [
       "<div>\n",
       "<style scoped>\n",
       "    .dataframe tbody tr th:only-of-type {\n",
       "        vertical-align: middle;\n",
       "    }\n",
       "\n",
       "    .dataframe tbody tr th {\n",
       "        vertical-align: top;\n",
       "    }\n",
       "\n",
       "    .dataframe thead th {\n",
       "        text-align: right;\n",
       "    }\n",
       "</style>\n",
       "<table border=\"1\" class=\"dataframe\">\n",
       "  <thead>\n",
       "    <tr style=\"text-align: right;\">\n",
       "      <th></th>\n",
       "      <th>(goles)</th>\n",
       "      <th>Altura</th>\n",
       "      <th>Apodo(s)</th>\n",
       "      <th>Club</th>\n",
       "      <th>Deporte</th>\n",
       "      <th>Dorsal(es)</th>\n",
       "      <th>Entrenador</th>\n",
       "      <th>Goles en clubes</th>\n",
       "      <th>Liga</th>\n",
       "      <th>Nacimiento</th>\n",
       "      <th>...</th>\n",
       "      <th>País</th>\n",
       "      <th>Peso</th>\n",
       "      <th>Posición</th>\n",
       "      <th>Retirada deportiva</th>\n",
       "      <th>Selección</th>\n",
       "      <th>nombre</th>\n",
       "      <th>IMC</th>\n",
       "      <th>clasificacion_oms</th>\n",
       "      <th>fecha_debut</th>\n",
       "      <th>club_debut</th>\n",
       "    </tr>\n",
       "  </thead>\n",
       "  <tbody>\n",
       "    <tr>\n",
       "      <th>395</th>\n",
       "      <td>NaN</td>\n",
       "      <td>1.71</td>\n",
       "      <td>Juanpi</td>\n",
       "      <td>Málaga C. F.</td>\n",
       "      <td>Fútbol</td>\n",
       "      <td>11</td>\n",
       "      <td>NaN</td>\n",
       "      <td>5.0</td>\n",
       "      <td>Primera División de España</td>\n",
       "      <td>Caracas24 de enero de 1994 (24 años)</td>\n",
       "      <td>...</td>\n",
       "      <td>Venezuela</td>\n",
       "      <td>NaN</td>\n",
       "      <td>Mediocampista</td>\n",
       "      <td>NaN</td>\n",
       "      <td>Venezuela Venezuela</td>\n",
       "      <td>Juanpi</td>\n",
       "      <td>NaN</td>\n",
       "      <td>NaN</td>\n",
       "      <td>2014.0</td>\n",
       "      <td>Málaga C. F.</td>\n",
       "    </tr>\n",
       "    <tr>\n",
       "      <th>29</th>\n",
       "      <td>NaN</td>\n",
       "      <td>1.80</td>\n",
       "      <td>NaN</td>\n",
       "      <td>Real Club Celta de Vigo</td>\n",
       "      <td>Fútbol</td>\n",
       "      <td>2</td>\n",
       "      <td>NaN</td>\n",
       "      <td>NaN</td>\n",
       "      <td>NaN</td>\n",
       "      <td>Marín, Pontevedra22 de junio de 1991 (27 años)</td>\n",
       "      <td>...</td>\n",
       "      <td>España</td>\n",
       "      <td>NaN</td>\n",
       "      <td>Lateral derecho</td>\n",
       "      <td>NaN</td>\n",
       "      <td>NaN</td>\n",
       "      <td>Hugo Mallo</td>\n",
       "      <td>NaN</td>\n",
       "      <td>NaN</td>\n",
       "      <td>2009.0</td>\n",
       "      <td>Real Club Celta de Vigo</td>\n",
       "    </tr>\n",
       "    <tr>\n",
       "      <th>470</th>\n",
       "      <td>NaN</td>\n",
       "      <td>1.84</td>\n",
       "      <td>NaN</td>\n",
       "      <td>Villarreal Club de Fútbol</td>\n",
       "      <td>Fútbol</td>\n",
       "      <td>19</td>\n",
       "      <td>NaN</td>\n",
       "      <td>31.0</td>\n",
       "      <td>Primera División de España</td>\n",
       "      <td>Artana, Castellón12 de junio de 1984 (34 años)</td>\n",
       "      <td>...</td>\n",
       "      <td>España España</td>\n",
       "      <td>73.0</td>\n",
       "      <td>Centrocampista</td>\n",
       "      <td>NaN</td>\n",
       "      <td>España España</td>\n",
       "      <td>Bruno Soriano</td>\n",
       "      <td>21.561909</td>\n",
       "      <td>normal</td>\n",
       "      <td>2006.0</td>\n",
       "      <td>Villarreal Club de Fútbol</td>\n",
       "    </tr>\n",
       "  </tbody>\n",
       "</table>\n",
       "<p>3 rows × 26 columns</p>\n",
       "</div>"
      ],
      "text/plain": [
       "    (goles)  Altura Apodo(s)                       Club Deporte Dorsal(es)  \\\n",
       "395     NaN    1.71   Juanpi               Málaga C. F.  Fútbol         11   \n",
       "29      NaN    1.80      NaN    Real Club Celta de Vigo  Fútbol          2   \n",
       "470     NaN    1.84      NaN  Villarreal Club de Fútbol  Fútbol         19   \n",
       "\n",
       "    Entrenador  Goles en clubes                        Liga  \\\n",
       "395        NaN              5.0  Primera División de España   \n",
       "29         NaN              NaN                         NaN   \n",
       "470        NaN             31.0  Primera División de España   \n",
       "\n",
       "                                         Nacimiento  ...           País  Peso  \\\n",
       "395            Caracas24 de enero de 1994 (24 años)  ...      Venezuela   NaN   \n",
       "29   Marín, Pontevedra22 de junio de 1991 (27 años)  ...         España   NaN   \n",
       "470  Artana, Castellón12 de junio de 1984 (34 años)  ...  España España  73.0   \n",
       "\n",
       "            Posición Retirada deportiva            Selección         nombre  \\\n",
       "395    Mediocampista                NaN  Venezuela Venezuela         Juanpi   \n",
       "29   Lateral derecho                NaN                  NaN     Hugo Mallo   \n",
       "470   Centrocampista                NaN        España España  Bruno Soriano   \n",
       "\n",
       "           IMC  clasificacion_oms fecha_debut                 club_debut  \n",
       "395        NaN                NaN      2014.0               Málaga C. F.  \n",
       "29         NaN                NaN      2009.0    Real Club Celta de Vigo  \n",
       "470  21.561909             normal      2006.0  Villarreal Club de Fútbol  \n",
       "\n",
       "[3 rows x 26 columns]"
      ]
     },
     "execution_count": 14,
     "metadata": {},
     "output_type": "execute_result"
    }
   ],
   "source": [
    "# Guardar los jugadores que aún juegen en el equipo en el que debutaron\n",
    "extraer_datos_debut(df_4)\n",
    "df_debutantes = df_4.loc[df_4['Club'] == df_4['club_debut']]\n",
    "df_debutantes.sample(3)"
   ]
  },
  {
   "cell_type": "code",
   "execution_count": 15,
   "metadata": {},
   "outputs": [
    {
     "data": {
      "text/plain": [
       "array(['portero', 'lateral', 'defensa', 'medioce', 'interio', 'centroc',\n",
       "       'mediapu', 'extremo', 'delante', 'guardam', 'central', 'defenso',\n",
       "       'volante', 'centrod', 'arquero', 'medio c', 'pivote', 'medioca',\n",
       "       'cariler', 'medio', 'nan'], dtype=object)"
      ]
     },
     "execution_count": 15,
     "metadata": {},
     "output_type": "execute_result"
    }
   ],
   "source": [
    "# Realizar una visualizacion que permita ver la relacion entre IMC y la posición del jugador en el equipo\n",
    "raw_data = pd.read_csv(path, sep=\";\")\n",
    "df_4 = extraer_altura(raw_data) \n",
    "df_4 = extraer_peso(df_4)  \n",
    "df_4 = clasificacion_oms(df_4)\n",
    "df_4['Posición'] = df_4['Posición'].map(str)\n",
    "df_4['Posición'] = df_4['Posición'].apply(lambda x: x[0:7])\n",
    "df_4['Posición'] = df_4['Posición'].apply(lambda x: x.lower())\n",
    "df_4['Posición'].unique()"
   ]
  },
  {
   "cell_type": "code",
   "execution_count": 16,
   "metadata": {},
   "outputs": [],
   "source": [
    "traductor_posicion = {'portero': 'Portero',\n",
    "                      'guardam': 'Portero',\n",
    "                      'arquero': 'Portero',\n",
    "                      'lateral': 'Defensa',\n",
    "                      'defensa': 'Defensa',\n",
    "                      'central': 'Defensa',\n",
    "                      'defenso': 'Defensa',\n",
    "                      'cariler': 'Defensa',\n",
    "                      'medioce': 'Mediocampista',\n",
    "                      'interio': 'Mediocampista',\n",
    "                      'centroc': 'Mediocampista',\n",
    "                      'volante': 'Mediocampista',\n",
    "                      'medio c': 'Mediocampista',\n",
    "                      'pivote': 'Mediocampista',\n",
    "                      'medioca': 'Mediocampista',\n",
    "                      'medio': 'Mediocampista',\n",
    "                      'mediapu': 'Delantero',\n",
    "                      'extremo': 'Delantero',\n",
    "                      'delante': 'Delantero',\n",
    "                      'centrod': 'Delantero',\n",
    "                      'nan': np.nan\n",
    "                     }"
   ]
  },
  {
   "cell_type": "code",
   "execution_count": 17,
   "metadata": {},
   "outputs": [
    {
     "data": {
      "text/plain": [
       "array(['Portero', 'Defensa', 'Mediocampista', 'Delantero', nan],\n",
       "      dtype=object)"
      ]
     },
     "execution_count": 17,
     "metadata": {},
     "output_type": "execute_result"
    }
   ],
   "source": [
    "df_4['Posicion_mapeada'] = df_4['Posición'].map(traductor_posicion)\n",
    "df_4['Posicion_mapeada'].unique()"
   ]
  },
  {
   "cell_type": "code",
   "execution_count": 18,
   "metadata": {},
   "outputs": [
    {
     "data": {
      "image/png": "[encoded data removed]",
      "text/plain": [
       "<Figure size 432x288 with 1 Axes>"
      ]
     },
     "metadata": {
      "needs_background": "light"
     },
     "output_type": "display_data"
    }
   ],
   "source": [
    "df_imc = df_4.groupby(['Posicion_mapeada'])['IMC'].mean()\n",
    "ax3 = df_imc.plot.bar()\n",
    "ax3.set_title('IMC promedio de un jugador de acuerdo a su posición')\n",
    "ax3.set_ylim([20,24])\n",
    "ax3.figure.savefig('relacion_imc_posicion.png',bbox_inches='tight')"
   ]
  },
  {
   "cell_type": "code",
   "execution_count": null,
   "metadata": {},
   "outputs": [],
   "source": []
  }
 ],
 "metadata": {
  "kernelspec": {
   "display_name": "Python 3",
   "language": "python",
   "name": "python3"
  },
  "language_info": {
   "codemirror_mode": {
    "name": "ipython",
    "version": 3
   },
   "file_extension": ".py",
   "mimetype": "text/x-python",
   "name": "python",
   "nbconvert_exporter": "python",
   "pygments_lexer": "ipython3",
   "version": "3.7.6"
  }
 },
 "nbformat": 4,
 "nbformat_minor": 2
}
